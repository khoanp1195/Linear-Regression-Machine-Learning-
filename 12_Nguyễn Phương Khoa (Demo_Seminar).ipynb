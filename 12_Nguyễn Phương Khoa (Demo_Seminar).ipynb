{
 "cells": [
  {
   "cell_type": "markdown",
   "id": "2f1a52bd",
   "metadata": {},
   "source": [
    "# Xây dựng mô hình dự báo trọng lượng của cá\n"
   ]
  },
  {
   "cell_type": "markdown",
   "id": "cc3f510d",
   "metadata": {},
   "source": [
    "# Bước 1: Import thư viện"
   ]
  },
  {
   "cell_type": "code",
   "execution_count": 1,
   "id": "a9b7304b",
   "metadata": {},
   "outputs": [],
   "source": [
    "import pandas as pd\n",
    "import matplotlib.pyplot as plt\n",
    "import numpy as np\n",
    "import statsmodels.api as sm\n",
    "import math \n",
    "from sklearn.model_selection import train_test_split\n",
    "from sklearn.linear_model import LinearRegression\n",
    "from sklearn.metrics import mean_squared_error, r2_score, mean_absolute_error\n",
    "from scipy import stats\n",
    "import seaborn as sns "
   ]
  },
  {
   "cell_type": "markdown",
   "id": "3ebab8af",
   "metadata": {},
   "source": [
    "# Bước 2: Tải dữ liệu"
   ]
  },
  {
   "cell_type": "code",
   "execution_count": 2,
   "id": "87ffd65f",
   "metadata": {},
   "outputs": [
    {
     "name": "stdout",
     "output_type": "stream",
     "text": [
      "<class 'pandas.core.frame.DataFrame'>\n",
      "RangeIndex: 159 entries, 0 to 158\n",
      "Data columns (total 7 columns):\n",
      " #   Column   Non-Null Count  Dtype  \n",
      "---  ------   --------------  -----  \n",
      " 0   Species  159 non-null    object \n",
      " 1   Weight   159 non-null    float64\n",
      " 2   Length1  159 non-null    float64\n",
      " 3   Length2  159 non-null    float64\n",
      " 4   Length3  159 non-null    float64\n",
      " 5   Height   159 non-null    float64\n",
      " 6   Width    159 non-null    float64\n",
      "dtypes: float64(6), object(1)\n",
      "memory usage: 8.8+ KB\n"
     ]
    }
   ],
   "source": [
    "#Load dữ liệu \n",
    "path =r\"C:\\Users\\admin\\Fish.csv\"\n",
    "fish_data = pd.read_csv(path)\n",
    "fish_data.info()"
   ]
  },
  {
   "cell_type": "code",
   "execution_count": 3,
   "id": "858fbc29",
   "metadata": {},
   "outputs": [],
   "source": [
    "#Thay đổi tên cột\n",
    "fish_data.columns = ['species', 'weight','vertical_length','diagnol_length','cross_length','height','width']"
   ]
  },
  {
   "cell_type": "code",
   "execution_count": 4,
   "id": "415ebdec",
   "metadata": {},
   "outputs": [
    {
     "data": {
      "text/html": [
       "<div>\n",
       "<style scoped>\n",
       "    .dataframe tbody tr th:only-of-type {\n",
       "        vertical-align: middle;\n",
       "    }\n",
       "\n",
       "    .dataframe tbody tr th {\n",
       "        vertical-align: top;\n",
       "    }\n",
       "\n",
       "    .dataframe thead th {\n",
       "        text-align: right;\n",
       "    }\n",
       "</style>\n",
       "<table border=\"1\" class=\"dataframe\">\n",
       "  <thead>\n",
       "    <tr style=\"text-align: right;\">\n",
       "      <th></th>\n",
       "      <th>species</th>\n",
       "      <th>weight</th>\n",
       "      <th>vertical_length</th>\n",
       "      <th>diagnol_length</th>\n",
       "      <th>cross_length</th>\n",
       "      <th>height</th>\n",
       "      <th>width</th>\n",
       "    </tr>\n",
       "  </thead>\n",
       "  <tbody>\n",
       "    <tr>\n",
       "      <th>0</th>\n",
       "      <td>Bream</td>\n",
       "      <td>242.0</td>\n",
       "      <td>23.2</td>\n",
       "      <td>25.4</td>\n",
       "      <td>30.0</td>\n",
       "      <td>11.5200</td>\n",
       "      <td>4.0200</td>\n",
       "    </tr>\n",
       "    <tr>\n",
       "      <th>1</th>\n",
       "      <td>Bream</td>\n",
       "      <td>290.0</td>\n",
       "      <td>24.0</td>\n",
       "      <td>26.3</td>\n",
       "      <td>31.2</td>\n",
       "      <td>12.4800</td>\n",
       "      <td>4.3056</td>\n",
       "    </tr>\n",
       "    <tr>\n",
       "      <th>2</th>\n",
       "      <td>Bream</td>\n",
       "      <td>340.0</td>\n",
       "      <td>23.9</td>\n",
       "      <td>26.5</td>\n",
       "      <td>31.1</td>\n",
       "      <td>12.3778</td>\n",
       "      <td>4.6961</td>\n",
       "    </tr>\n",
       "    <tr>\n",
       "      <th>3</th>\n",
       "      <td>Bream</td>\n",
       "      <td>363.0</td>\n",
       "      <td>26.3</td>\n",
       "      <td>29.0</td>\n",
       "      <td>33.5</td>\n",
       "      <td>12.7300</td>\n",
       "      <td>4.4555</td>\n",
       "    </tr>\n",
       "    <tr>\n",
       "      <th>4</th>\n",
       "      <td>Bream</td>\n",
       "      <td>430.0</td>\n",
       "      <td>26.5</td>\n",
       "      <td>29.0</td>\n",
       "      <td>34.0</td>\n",
       "      <td>12.4440</td>\n",
       "      <td>5.1340</td>\n",
       "    </tr>\n",
       "  </tbody>\n",
       "</table>\n",
       "</div>"
      ],
      "text/plain": [
       "  species  weight  vertical_length  diagnol_length  cross_length   height  \\\n",
       "0   Bream   242.0             23.2            25.4          30.0  11.5200   \n",
       "1   Bream   290.0             24.0            26.3          31.2  12.4800   \n",
       "2   Bream   340.0             23.9            26.5          31.1  12.3778   \n",
       "3   Bream   363.0             26.3            29.0          33.5  12.7300   \n",
       "4   Bream   430.0             26.5            29.0          34.0  12.4440   \n",
       "\n",
       "    width  \n",
       "0  4.0200  \n",
       "1  4.3056  \n",
       "2  4.6961  \n",
       "3  4.4555  \n",
       "4  5.1340  "
      ]
     },
     "execution_count": 4,
     "metadata": {},
     "output_type": "execute_result"
    }
   ],
   "source": [
    "# print the first five rows\n",
    "fish_data.head()"
   ]
  },
  {
   "cell_type": "markdown",
   "id": "090ebf5c",
   "metadata": {},
   "source": [
    "# Bước 3: Kiểm tra dữ liệu"
   ]
  },
  {
   "cell_type": "code",
   "execution_count": 5,
   "id": "46a01293",
   "metadata": {},
   "outputs": [
    {
     "data": {
      "text/plain": [
       "species             object\n",
       "weight             float64\n",
       "vertical_length    float64\n",
       "diagnol_length     float64\n",
       "cross_length       float64\n",
       "height             float64\n",
       "width              float64\n",
       "dtype: object"
      ]
     },
     "execution_count": 5,
     "metadata": {},
     "output_type": "execute_result"
    }
   ],
   "source": [
    "# kiểm tra kiểu dữ liệu.\n",
    "fish_data.dtypes"
   ]
  },
  {
   "cell_type": "code",
   "execution_count": 6,
   "id": "0cc5d86b",
   "metadata": {},
   "outputs": [
    {
     "name": "stdout",
     "output_type": "stream",
     "text": [
      "Index(['species', 'weight', 'vertical_length', 'diagnol_length',\n",
      "       'cross_length', 'height', 'width'],\n",
      "      dtype='object')\n",
      "(159, 7)\n"
     ]
    }
   ],
   "source": [
    "print(fish_data.keys())\n",
    "print(fish_data.shape)"
   ]
  },
  {
   "cell_type": "code",
   "execution_count": 7,
   "id": "02a08c9a",
   "metadata": {},
   "outputs": [
    {
     "data": {
      "text/html": [
       "<div>\n",
       "<style scoped>\n",
       "    .dataframe tbody tr th:only-of-type {\n",
       "        vertical-align: middle;\n",
       "    }\n",
       "\n",
       "    .dataframe tbody tr th {\n",
       "        vertical-align: top;\n",
       "    }\n",
       "\n",
       "    .dataframe thead th {\n",
       "        text-align: right;\n",
       "    }\n",
       "</style>\n",
       "<table border=\"1\" class=\"dataframe\">\n",
       "  <thead>\n",
       "    <tr style=\"text-align: right;\">\n",
       "      <th></th>\n",
       "      <th>Loại cá</th>\n",
       "      <th>weight</th>\n",
       "      <th>vertical_length</th>\n",
       "      <th>diagnol_length</th>\n",
       "      <th>cross_length</th>\n",
       "      <th>height</th>\n",
       "      <th>width</th>\n",
       "    </tr>\n",
       "  </thead>\n",
       "  <tbody>\n",
       "    <tr>\n",
       "      <th>0</th>\n",
       "      <td>Bream</td>\n",
       "      <td>242.0</td>\n",
       "      <td>23.2</td>\n",
       "      <td>25.4</td>\n",
       "      <td>30.0</td>\n",
       "      <td>11.5200</td>\n",
       "      <td>4.0200</td>\n",
       "    </tr>\n",
       "    <tr>\n",
       "      <th>1</th>\n",
       "      <td>Bream</td>\n",
       "      <td>290.0</td>\n",
       "      <td>24.0</td>\n",
       "      <td>26.3</td>\n",
       "      <td>31.2</td>\n",
       "      <td>12.4800</td>\n",
       "      <td>4.3056</td>\n",
       "    </tr>\n",
       "    <tr>\n",
       "      <th>2</th>\n",
       "      <td>Bream</td>\n",
       "      <td>340.0</td>\n",
       "      <td>23.9</td>\n",
       "      <td>26.5</td>\n",
       "      <td>31.1</td>\n",
       "      <td>12.3778</td>\n",
       "      <td>4.6961</td>\n",
       "    </tr>\n",
       "    <tr>\n",
       "      <th>3</th>\n",
       "      <td>Bream</td>\n",
       "      <td>363.0</td>\n",
       "      <td>26.3</td>\n",
       "      <td>29.0</td>\n",
       "      <td>33.5</td>\n",
       "      <td>12.7300</td>\n",
       "      <td>4.4555</td>\n",
       "    </tr>\n",
       "    <tr>\n",
       "      <th>4</th>\n",
       "      <td>Bream</td>\n",
       "      <td>430.0</td>\n",
       "      <td>26.5</td>\n",
       "      <td>29.0</td>\n",
       "      <td>34.0</td>\n",
       "      <td>12.4440</td>\n",
       "      <td>5.1340</td>\n",
       "    </tr>\n",
       "    <tr>\n",
       "      <th>...</th>\n",
       "      <td>...</td>\n",
       "      <td>...</td>\n",
       "      <td>...</td>\n",
       "      <td>...</td>\n",
       "      <td>...</td>\n",
       "      <td>...</td>\n",
       "      <td>...</td>\n",
       "    </tr>\n",
       "    <tr>\n",
       "      <th>95</th>\n",
       "      <td>Perch</td>\n",
       "      <td>170.0</td>\n",
       "      <td>21.5</td>\n",
       "      <td>23.5</td>\n",
       "      <td>25.0</td>\n",
       "      <td>6.2750</td>\n",
       "      <td>3.7250</td>\n",
       "    </tr>\n",
       "    <tr>\n",
       "      <th>96</th>\n",
       "      <td>Perch</td>\n",
       "      <td>225.0</td>\n",
       "      <td>22.0</td>\n",
       "      <td>24.0</td>\n",
       "      <td>25.5</td>\n",
       "      <td>7.2930</td>\n",
       "      <td>3.7230</td>\n",
       "    </tr>\n",
       "    <tr>\n",
       "      <th>97</th>\n",
       "      <td>Perch</td>\n",
       "      <td>145.0</td>\n",
       "      <td>22.0</td>\n",
       "      <td>24.0</td>\n",
       "      <td>25.5</td>\n",
       "      <td>6.3750</td>\n",
       "      <td>3.8250</td>\n",
       "    </tr>\n",
       "    <tr>\n",
       "      <th>98</th>\n",
       "      <td>Perch</td>\n",
       "      <td>188.0</td>\n",
       "      <td>22.6</td>\n",
       "      <td>24.6</td>\n",
       "      <td>26.2</td>\n",
       "      <td>6.7334</td>\n",
       "      <td>4.1658</td>\n",
       "    </tr>\n",
       "    <tr>\n",
       "      <th>99</th>\n",
       "      <td>Perch</td>\n",
       "      <td>180.0</td>\n",
       "      <td>23.0</td>\n",
       "      <td>25.0</td>\n",
       "      <td>26.5</td>\n",
       "      <td>6.4395</td>\n",
       "      <td>3.6835</td>\n",
       "    </tr>\n",
       "  </tbody>\n",
       "</table>\n",
       "<p>100 rows × 7 columns</p>\n",
       "</div>"
      ],
      "text/plain": [
       "   Loại cá  weight  vertical_length  diagnol_length  cross_length   height  \\\n",
       "0    Bream   242.0             23.2            25.4          30.0  11.5200   \n",
       "1    Bream   290.0             24.0            26.3          31.2  12.4800   \n",
       "2    Bream   340.0             23.9            26.5          31.1  12.3778   \n",
       "3    Bream   363.0             26.3            29.0          33.5  12.7300   \n",
       "4    Bream   430.0             26.5            29.0          34.0  12.4440   \n",
       "..     ...     ...              ...             ...           ...      ...   \n",
       "95   Perch   170.0             21.5            23.5          25.0   6.2750   \n",
       "96   Perch   225.0             22.0            24.0          25.5   7.2930   \n",
       "97   Perch   145.0             22.0            24.0          25.5   6.3750   \n",
       "98   Perch   188.0             22.6            24.6          26.2   6.7334   \n",
       "99   Perch   180.0             23.0            25.0          26.5   6.4395   \n",
       "\n",
       "     width  \n",
       "0   4.0200  \n",
       "1   4.3056  \n",
       "2   4.6961  \n",
       "3   4.4555  \n",
       "4   5.1340  \n",
       "..     ...  \n",
       "95  3.7250  \n",
       "96  3.7230  \n",
       "97  3.8250  \n",
       "98  4.1658  \n",
       "99  3.6835  \n",
       "\n",
       "[100 rows x 7 columns]"
      ]
     },
     "execution_count": 7,
     "metadata": {},
     "output_type": "execute_result"
    }
   ],
   "source": [
    "# Thiết lập tên mới\n",
    "new_column_names = {'species':'Loại cá'}\n",
    "# Đổi tên cột\n",
    "fish_data = fish_data.rename(columns = new_column_names)\n",
    "fish_data.head(100)"
   ]
  },
  {
   "cell_type": "code",
   "execution_count": 8,
   "id": "a1a50faa",
   "metadata": {},
   "outputs": [
    {
     "data": {
      "text/plain": [
       "Loại cá            False\n",
       "weight             False\n",
       "vertical_length    False\n",
       "diagnol_length     False\n",
       "cross_length       False\n",
       "height             False\n",
       "width              False\n",
       "dtype: bool"
      ]
     },
     "metadata": {},
     "output_type": "display_data"
    },
    {
     "data": {
      "text/plain": [
       "Loại cá            False\n",
       "weight             False\n",
       "vertical_length    False\n",
       "diagnol_length     False\n",
       "cross_length       False\n",
       "height             False\n",
       "width              False\n",
       "dtype: bool"
      ]
     },
     "execution_count": 8,
     "metadata": {},
     "output_type": "execute_result"
    }
   ],
   "source": [
    "# kiểm tra giá trị bị thiếu\n",
    "display(fish_data.isna().any())\n",
    "# xóa giá trị bị thiếu\n",
    "fish_data = fish_data.dropna()\n",
    "# Kiểm tra lại dữ liệu\n",
    "fish_data.isna().any()"
   ]
  },
  {
   "cell_type": "markdown",
   "id": "a778f9f5",
   "metadata": {},
   "source": [
    "# Bước 4: Tìm hiểu về dữ liệu"
   ]
  },
  {
   "cell_type": "code",
   "execution_count": 9,
   "id": "81091d17",
   "metadata": {},
   "outputs": [],
   "source": [
    "X = fish_data.drop(['weight','Loại cá'], axis=1).values\n",
    "Y = fish_data['weight'].values"
   ]
  },
  {
   "cell_type": "code",
   "execution_count": 10,
   "id": "6a1e0733",
   "metadata": {},
   "outputs": [
    {
     "name": "stdout",
     "output_type": "stream",
     "text": [
      "[[23.2    25.4    30.     11.52    4.02  ]\n",
      " [24.     26.3    31.2    12.48    4.3056]\n",
      " [23.9    26.5    31.1    12.3778  4.6961]\n",
      " [26.3    29.     33.5    12.73    4.4555]\n",
      " [26.5    29.     34.     12.444   5.134 ]\n",
      " [26.8    29.7    34.7    13.6024  4.9274]\n",
      " [26.8    29.7    34.5    14.1795  5.2785]\n",
      " [27.6    30.     35.     12.67    4.69  ]\n",
      " [27.6    30.     35.1    14.0049  4.8438]\n",
      " [28.5    30.7    36.2    14.2266  4.9594]\n",
      " [28.4    31.     36.2    14.2628  5.1042]\n",
      " [28.7    31.     36.2    14.3714  4.8146]\n",
      " [29.1    31.5    36.4    13.7592  4.368 ]\n",
      " [29.5    32.     37.3    13.9129  5.0728]\n",
      " [29.4    32.     37.2    14.9544  5.1708]\n",
      " [29.4    32.     37.2    15.438   5.58  ]\n",
      " [30.4    33.     38.3    14.8604  5.2854]\n",
      " [30.4    33.     38.5    14.938   5.1975]\n",
      " [30.9    33.5    38.6    15.633   5.1338]\n",
      " [31.     33.5    38.7    14.4738  5.7276]\n",
      " [31.3    34.     39.5    15.1285  5.5695]\n",
      " [31.4    34.     39.2    15.9936  5.3704]\n",
      " [31.5    34.5    39.7    15.5227  5.2801]\n",
      " [31.8    35.     40.6    15.4686  6.1306]\n",
      " [31.9    35.     40.5    16.2405  5.589 ]\n",
      " [31.8    35.     40.9    16.36    6.0532]\n",
      " [32.     35.     40.6    16.3618  6.09  ]\n",
      " [32.7    36.     41.5    16.517   5.8515]\n",
      " [32.8    36.     41.6    16.8896  6.1984]\n",
      " [33.5    37.     42.6    18.957   6.603 ]\n",
      " [35.     38.5    44.1    18.0369  6.3063]\n",
      " [35.     38.5    44.     18.084   6.292 ]\n",
      " [36.2    39.5    45.3    18.7542  6.7497]\n",
      " [37.4    41.     45.9    18.6354  6.7473]\n",
      " [38.     41.     46.5    17.6235  6.3705]\n",
      " [12.9    14.1    16.2     4.1472  2.268 ]\n",
      " [16.5    18.2    20.3     5.2983  2.8217]\n",
      " [17.5    18.8    21.2     5.5756  2.9044]\n",
      " [18.2    19.8    22.2     5.6166  3.1746]\n",
      " [18.6    20.     22.2     6.216   3.5742]\n",
      " [19.     20.5    22.8     6.4752  3.3516]\n",
      " [19.1    20.8    23.1     6.1677  3.3957]\n",
      " [19.4    21.     23.7     6.1146  3.2943]\n",
      " [20.4    22.     24.7     5.8045  3.7544]\n",
      " [20.5    22.     24.3     6.6339  3.5478]\n",
      " [20.5    22.5    25.3     7.0334  3.8203]\n",
      " [21.     22.5    25.      6.55    3.325 ]\n",
      " [21.1    22.5    25.      6.4     3.8   ]\n",
      " [22.     24.     27.2     7.5344  3.8352]\n",
      " [22.     23.4    26.7     6.9153  3.6312]\n",
      " [22.1    23.5    26.8     7.3968  4.1272]\n",
      " [23.6    25.2    27.9     7.0866  3.906 ]\n",
      " [24.     26.     29.2     8.8768  4.4968]\n",
      " [25.     27.     30.6     8.568   4.7736]\n",
      " [29.5    31.7    35.      9.485   5.355 ]\n",
      " [23.6    26.     28.7     8.3804  4.2476]\n",
      " [24.1    26.5    29.3     8.1454  4.2485]\n",
      " [25.6    28.     30.8     8.778   4.6816]\n",
      " [28.5    31.     34.     10.744   6.562 ]\n",
      " [33.7    36.4    39.6    11.7612  6.5736]\n",
      " [37.3    40.     43.5    12.354   6.525 ]\n",
      " [13.5    14.7    16.5     6.8475  2.3265]\n",
      " [14.3    15.5    17.4     6.5772  2.3142]\n",
      " [16.3    17.7    19.8     7.4052  2.673 ]\n",
      " [17.5    19.     21.3     8.3922  2.9181]\n",
      " [18.4    20.     22.4     8.8928  3.2928]\n",
      " [19.     20.7    23.2     8.5376  3.2944]\n",
      " [19.     20.7    23.2     9.396   3.4104]\n",
      " [19.8    21.5    24.1     9.7364  3.1571]\n",
      " [21.2    23.     25.8    10.3458  3.6636]\n",
      " [23.     25.     28.     11.088   4.144 ]\n",
      " [24.     26.     29.     11.368   4.234 ]\n",
      " [ 7.5     8.4     8.8     2.112   1.408 ]\n",
      " [12.5    13.7    14.7     3.528   1.9992]\n",
      " [13.8    15.     16.      3.824   2.432 ]\n",
      " [15.     16.2    17.2     4.5924  2.6316]\n",
      " [15.7    17.4    18.5     4.588   2.9415]\n",
      " [16.2    18.     19.2     5.2224  3.3216]\n",
      " [16.8    18.7    19.4     5.1992  3.1234]\n",
      " [17.2    19.     20.2     5.6358  3.0502]\n",
      " [17.8    19.6    20.8     5.1376  3.0368]\n",
      " [18.2    20.     21.      5.082   2.772 ]\n",
      " [19.     21.     22.5     5.6925  3.555 ]\n",
      " [19.     21.     22.5     5.9175  3.3075]\n",
      " [19.     21.     22.5     5.6925  3.6675]\n",
      " [19.3    21.3    22.8     6.384   3.534 ]\n",
      " [20.     22.     23.5     6.11    3.4075]\n",
      " [20.     22.     23.5     5.64    3.525 ]\n",
      " [20.     22.     23.5     6.11    3.525 ]\n",
      " [20.     22.     23.5     5.875   3.525 ]\n",
      " [20.     22.     23.5     5.5225  3.995 ]\n",
      " [20.5    22.5    24.      5.856   3.624 ]\n",
      " [20.5    22.5    24.      6.792   3.624 ]\n",
      " [20.7    22.7    24.2     5.9532  3.63  ]\n",
      " [21.     23.     24.5     5.2185  3.626 ]\n",
      " [21.5    23.5    25.      6.275   3.725 ]\n",
      " [22.     24.     25.5     7.293   3.723 ]\n",
      " [22.     24.     25.5     6.375   3.825 ]\n",
      " [22.6    24.6    26.2     6.7334  4.1658]\n",
      " [23.     25.     26.5     6.4395  3.6835]\n",
      " [23.5    25.6    27.      6.561   4.239 ]\n",
      " [25.     26.5    28.      7.168   4.144 ]\n",
      " [25.2    27.3    28.7     8.323   5.1373]\n",
      " [25.4    27.5    28.9     7.1672  4.335 ]\n",
      " [25.4    27.5    28.9     7.0516  4.335 ]\n",
      " [25.4    27.5    28.9     7.2828  4.5662]\n",
      " [25.9    28.     29.4     7.8204  4.2042]\n",
      " [26.9    28.7    30.1     7.5852  4.6354]\n",
      " [27.8    30.     31.6     7.6156  4.7716]\n",
      " [30.5    32.8    34.     10.03    6.018 ]\n",
      " [32.     34.5    36.5    10.2565  6.3875]\n",
      " [32.5    35.     37.3    11.4884  7.7957]\n",
      " [34.     36.5    39.     10.881   6.864 ]\n",
      " [34.     36.     38.3    10.6091  6.7408]\n",
      " [34.5    37.     39.4    10.835   6.2646]\n",
      " [34.6    37.     39.3    10.5717  6.3666]\n",
      " [36.5    39.     41.4    11.1366  7.4934]\n",
      " [36.5    39.     41.4    11.1366  6.003 ]\n",
      " [36.6    39.     41.3    12.4313  7.3514]\n",
      " [36.9    40.     42.3    11.9286  7.1064]\n",
      " [37.     40.     42.5    11.73    7.225 ]\n",
      " [37.     40.     42.4    12.3808  7.4624]\n",
      " [37.1    40.     42.5    11.135   6.63  ]\n",
      " [39.     42.     44.6    12.8002  6.8684]\n",
      " [39.8    43.     45.2    11.9328  7.2772]\n",
      " [40.1    43.     45.5    12.5125  7.4165]\n",
      " [40.2    43.5    46.     12.604   8.142 ]\n",
      " [41.1    44.     46.6    12.4888  7.5958]\n",
      " [30.     32.3    34.8     5.568   3.3756]\n",
      " [31.7    34.     37.8     5.7078  4.158 ]\n",
      " [32.7    35.     38.8     5.9364  4.3844]\n",
      " [34.8    37.3    39.8     6.2884  4.0198]\n",
      " [35.5    38.     40.5     7.29    4.5765]\n",
      " [36.     38.5    41.      6.396   3.977 ]\n",
      " [40.     42.5    45.5     7.28    4.3225]\n",
      " [40.     42.5    45.5     6.825   4.459 ]\n",
      " [40.1    43.     45.8     7.786   5.1296]\n",
      " [42.     45.     48.      6.96    4.896 ]\n",
      " [43.2    46.     48.7     7.792   4.87  ]\n",
      " [44.8    48.     51.2     7.68    5.376 ]\n",
      " [48.3    51.7    55.1     8.9262  6.1712]\n",
      " [52.     56.     59.7    10.6863  6.9849]\n",
      " [56.     60.     64.      9.6     6.144 ]\n",
      " [56.     60.     64.      9.6     6.144 ]\n",
      " [59.     63.4    68.     10.812   7.48  ]\n",
      " [ 9.3     9.8    10.8     1.7388  1.0476]\n",
      " [10.     10.5    11.6     1.972   1.16  ]\n",
      " [10.1    10.6    11.6     1.7284  1.1484]\n",
      " [10.4    11.     12.      2.196   1.38  ]\n",
      " [10.7    11.2    12.4     2.0832  1.2772]\n",
      " [10.8    11.3    12.6     1.9782  1.2852]\n",
      " [11.3    11.8    13.1     2.2139  1.2838]\n",
      " [11.3    11.8    13.1     2.2139  1.1659]\n",
      " [11.4    12.     13.2     2.2044  1.1484]\n",
      " [11.5    12.2    13.4     2.0904  1.3936]\n",
      " [11.7    12.4    13.5     2.43    1.269 ]\n",
      " [12.1    13.     13.8     2.277   1.2558]\n",
      " [13.2    14.3    15.2     2.8728  2.0672]\n",
      " [13.8    15.     16.2     2.9322  1.8792]]\n"
     ]
    }
   ],
   "source": [
    "print(X)"
   ]
  },
  {
   "cell_type": "code",
   "execution_count": 11,
   "id": "6ec46a90",
   "metadata": {},
   "outputs": [
    {
     "name": "stdout",
     "output_type": "stream",
     "text": [
      "[ 242.   290.   340.   363.   430.   450.   500.   390.   450.   500.\n",
      "  475.   500.   500.   340.   600.   600.   700.   700.   610.   650.\n",
      "  575.   685.   620.   680.   700.   725.   720.   714.   850.  1000.\n",
      "  920.   955.   925.   975.   950.    40.    69.    78.    87.   120.\n",
      "    0.   110.   120.   150.   145.   160.   140.   160.   169.   161.\n",
      "  200.   180.   290.   272.   390.   270.   270.   306.   540.   800.\n",
      " 1000.    55.    60.    90.   120.   150.   140.   170.   145.   200.\n",
      "  273.   300.     5.9   32.    40.    51.5   70.   100.    78.    80.\n",
      "   85.    85.   110.   115.   125.   130.   120.   120.   130.   135.\n",
      "  110.   130.   150.   145.   150.   170.   225.   145.   188.   180.\n",
      "  197.   218.   300.   260.   265.   250.   250.   300.   320.   514.\n",
      "  556.   840.   685.   700.   700.   690.   900.   650.   820.   850.\n",
      "  900.  1015.   820.  1100.  1000.  1100.  1000.  1000.   200.   300.\n",
      "  300.   300.   430.   345.   456.   510.   540.   500.   567.   770.\n",
      "  950.  1250.  1600.  1550.  1650.     6.7    7.5    7.     9.7    9.8\n",
      "    8.7   10.     9.9    9.8   12.2   13.4   12.2   19.7   19.9]\n"
     ]
    }
   ],
   "source": [
    "print(Y)"
   ]
  },
  {
   "cell_type": "code",
   "execution_count": 12,
   "id": "e7e54903",
   "metadata": {},
   "outputs": [
    {
     "data": {
      "text/html": [
       "<div>\n",
       "<style scoped>\n",
       "    .dataframe tbody tr th:only-of-type {\n",
       "        vertical-align: middle;\n",
       "    }\n",
       "\n",
       "    .dataframe tbody tr th {\n",
       "        vertical-align: top;\n",
       "    }\n",
       "\n",
       "    .dataframe thead th {\n",
       "        text-align: right;\n",
       "    }\n",
       "</style>\n",
       "<table border=\"1\" class=\"dataframe\">\n",
       "  <thead>\n",
       "    <tr style=\"text-align: right;\">\n",
       "      <th></th>\n",
       "      <th>weight</th>\n",
       "      <th>vertical_length</th>\n",
       "      <th>diagnol_length</th>\n",
       "      <th>cross_length</th>\n",
       "      <th>height</th>\n",
       "      <th>width</th>\n",
       "    </tr>\n",
       "  </thead>\n",
       "  <tbody>\n",
       "    <tr>\n",
       "      <th>weight</th>\n",
       "      <td>1.000000</td>\n",
       "      <td>0.915712</td>\n",
       "      <td>0.918618</td>\n",
       "      <td>0.923044</td>\n",
       "      <td>0.724345</td>\n",
       "      <td>0.886507</td>\n",
       "    </tr>\n",
       "    <tr>\n",
       "      <th>vertical_length</th>\n",
       "      <td>0.915712</td>\n",
       "      <td>1.000000</td>\n",
       "      <td>0.999517</td>\n",
       "      <td>0.992031</td>\n",
       "      <td>0.625378</td>\n",
       "      <td>0.867050</td>\n",
       "    </tr>\n",
       "    <tr>\n",
       "      <th>diagnol_length</th>\n",
       "      <td>0.918618</td>\n",
       "      <td>0.999517</td>\n",
       "      <td>1.000000</td>\n",
       "      <td>0.994103</td>\n",
       "      <td>0.640441</td>\n",
       "      <td>0.873547</td>\n",
       "    </tr>\n",
       "    <tr>\n",
       "      <th>cross_length</th>\n",
       "      <td>0.923044</td>\n",
       "      <td>0.992031</td>\n",
       "      <td>0.994103</td>\n",
       "      <td>1.000000</td>\n",
       "      <td>0.703409</td>\n",
       "      <td>0.878520</td>\n",
       "    </tr>\n",
       "    <tr>\n",
       "      <th>height</th>\n",
       "      <td>0.724345</td>\n",
       "      <td>0.625378</td>\n",
       "      <td>0.640441</td>\n",
       "      <td>0.703409</td>\n",
       "      <td>1.000000</td>\n",
       "      <td>0.792881</td>\n",
       "    </tr>\n",
       "    <tr>\n",
       "      <th>width</th>\n",
       "      <td>0.886507</td>\n",
       "      <td>0.867050</td>\n",
       "      <td>0.873547</td>\n",
       "      <td>0.878520</td>\n",
       "      <td>0.792881</td>\n",
       "      <td>1.000000</td>\n",
       "    </tr>\n",
       "  </tbody>\n",
       "</table>\n",
       "</div>"
      ],
      "text/plain": [
       "                   weight  vertical_length  diagnol_length  cross_length  \\\n",
       "weight           1.000000         0.915712        0.918618      0.923044   \n",
       "vertical_length  0.915712         1.000000        0.999517      0.992031   \n",
       "diagnol_length   0.918618         0.999517        1.000000      0.994103   \n",
       "cross_length     0.923044         0.992031        0.994103      1.000000   \n",
       "height           0.724345         0.625378        0.640441      0.703409   \n",
       "width            0.886507         0.867050        0.873547      0.878520   \n",
       "\n",
       "                   height     width  \n",
       "weight           0.724345  0.886507  \n",
       "vertical_length  0.625378  0.867050  \n",
       "diagnol_length   0.640441  0.873547  \n",
       "cross_length     0.703409  0.878520  \n",
       "height           1.000000  0.792881  \n",
       "width            0.792881  1.000000  "
      ]
     },
     "execution_count": 12,
     "metadata": {},
     "output_type": "execute_result"
    }
   ],
   "source": [
    "# Đo lường tương quan\n",
    "fish_data.corr()"
   ]
  },
  {
   "cell_type": "code",
   "execution_count": 13,
   "id": "dce172bf",
   "metadata": {
    "scrolled": true
   },
   "outputs": [
    {
     "data": {
      "text/html": [
       "<div>\n",
       "<style scoped>\n",
       "    .dataframe tbody tr th:only-of-type {\n",
       "        vertical-align: middle;\n",
       "    }\n",
       "\n",
       "    .dataframe tbody tr th {\n",
       "        vertical-align: top;\n",
       "    }\n",
       "\n",
       "    .dataframe thead th {\n",
       "        text-align: right;\n",
       "    }\n",
       "</style>\n",
       "<table border=\"1\" class=\"dataframe\">\n",
       "  <thead>\n",
       "    <tr style=\"text-align: right;\">\n",
       "      <th></th>\n",
       "      <th>weight</th>\n",
       "      <th>vertical_length</th>\n",
       "      <th>diagnol_length</th>\n",
       "      <th>cross_length</th>\n",
       "      <th>height</th>\n",
       "      <th>width</th>\n",
       "    </tr>\n",
       "  </thead>\n",
       "  <tbody>\n",
       "    <tr>\n",
       "      <th>count</th>\n",
       "      <td>159.000000</td>\n",
       "      <td>159.000000</td>\n",
       "      <td>159.000000</td>\n",
       "      <td>159.000000</td>\n",
       "      <td>159.000000</td>\n",
       "      <td>159.000000</td>\n",
       "    </tr>\n",
       "    <tr>\n",
       "      <th>mean</th>\n",
       "      <td>398.326415</td>\n",
       "      <td>26.247170</td>\n",
       "      <td>28.415723</td>\n",
       "      <td>31.227044</td>\n",
       "      <td>8.970994</td>\n",
       "      <td>4.417486</td>\n",
       "    </tr>\n",
       "    <tr>\n",
       "      <th>std</th>\n",
       "      <td>357.978317</td>\n",
       "      <td>9.996441</td>\n",
       "      <td>10.716328</td>\n",
       "      <td>11.610246</td>\n",
       "      <td>4.286208</td>\n",
       "      <td>1.685804</td>\n",
       "    </tr>\n",
       "    <tr>\n",
       "      <th>min</th>\n",
       "      <td>0.000000</td>\n",
       "      <td>7.500000</td>\n",
       "      <td>8.400000</td>\n",
       "      <td>8.800000</td>\n",
       "      <td>1.728400</td>\n",
       "      <td>1.047600</td>\n",
       "    </tr>\n",
       "    <tr>\n",
       "      <th>25%</th>\n",
       "      <td>120.000000</td>\n",
       "      <td>19.050000</td>\n",
       "      <td>21.000000</td>\n",
       "      <td>23.150000</td>\n",
       "      <td>5.944800</td>\n",
       "      <td>3.385650</td>\n",
       "    </tr>\n",
       "    <tr>\n",
       "      <th>50%</th>\n",
       "      <td>273.000000</td>\n",
       "      <td>25.200000</td>\n",
       "      <td>27.300000</td>\n",
       "      <td>29.400000</td>\n",
       "      <td>7.786000</td>\n",
       "      <td>4.248500</td>\n",
       "    </tr>\n",
       "    <tr>\n",
       "      <th>75%</th>\n",
       "      <td>650.000000</td>\n",
       "      <td>32.700000</td>\n",
       "      <td>35.500000</td>\n",
       "      <td>39.650000</td>\n",
       "      <td>12.365900</td>\n",
       "      <td>5.584500</td>\n",
       "    </tr>\n",
       "    <tr>\n",
       "      <th>max</th>\n",
       "      <td>1650.000000</td>\n",
       "      <td>59.000000</td>\n",
       "      <td>63.400000</td>\n",
       "      <td>68.000000</td>\n",
       "      <td>18.957000</td>\n",
       "      <td>8.142000</td>\n",
       "    </tr>\n",
       "  </tbody>\n",
       "</table>\n",
       "</div>"
      ],
      "text/plain": [
       "            weight  vertical_length  diagnol_length  cross_length      height  \\\n",
       "count   159.000000       159.000000      159.000000    159.000000  159.000000   \n",
       "mean    398.326415        26.247170       28.415723     31.227044    8.970994   \n",
       "std     357.978317         9.996441       10.716328     11.610246    4.286208   \n",
       "min       0.000000         7.500000        8.400000      8.800000    1.728400   \n",
       "25%     120.000000        19.050000       21.000000     23.150000    5.944800   \n",
       "50%     273.000000        25.200000       27.300000     29.400000    7.786000   \n",
       "75%     650.000000        32.700000       35.500000     39.650000   12.365900   \n",
       "max    1650.000000        59.000000       63.400000     68.000000   18.957000   \n",
       "\n",
       "            width  \n",
       "count  159.000000  \n",
       "mean     4.417486  \n",
       "std      1.685804  \n",
       "min      1.047600  \n",
       "25%      3.385650  \n",
       "50%      4.248500  \n",
       "75%      5.584500  \n",
       "max      8.142000  "
      ]
     },
     "execution_count": 13,
     "metadata": {},
     "output_type": "execute_result"
    }
   ],
   "source": [
    "#Xuất ra bảng tóm tắt thống kê với hàm .describe()\n",
    "fish_data.describe()"
   ]
  },
  {
   "cell_type": "code",
   "execution_count": 14,
   "id": "ce405406",
   "metadata": {},
   "outputs": [
    {
     "data": {
      "text/plain": [
       "array([[<AxesSubplot:title={'center':'weight'}>,\n",
       "        <AxesSubplot:title={'center':'vertical_length'}>],\n",
       "       [<AxesSubplot:title={'center':'diagnol_length'}>,\n",
       "        <AxesSubplot:title={'center':'cross_length'}>],\n",
       "       [<AxesSubplot:title={'center':'height'}>,\n",
       "        <AxesSubplot:title={'center':'width'}>]], dtype=object)"
      ]
     },
     "execution_count": 14,
     "metadata": {},
     "output_type": "execute_result"
    },
    {
     "data": {
      "image/png": "[encoded data removed]",
      "text/plain": [
       "<Figure size 432x288 with 6 Axes>"
      ]
     },
     "metadata": {
      "needs_background": "light"
     },
     "output_type": "display_data"
    }
   ],
   "source": [
    "fish_data.hist(grid = True,bins = 5, color = 'orange')\n",
    "#sử dụng hàm .hist để vẽ histogram (biểu đồ) thể hiện tần suất của dữ liệu"
   ]
  },
  {
   "cell_type": "markdown",
   "id": "d5b66f65",
   "metadata": {},
   "source": [
    "Loại cá"
   ]
  },
  {
   "cell_type": "code",
   "execution_count": 15,
   "id": "fc05aaee",
   "metadata": {},
   "outputs": [
    {
     "name": "stdout",
     "output_type": "stream",
     "text": [
      "Loại cá\n",
      "Bream        35\n",
      "Parkki       11\n",
      "Perch        56\n",
      "Pike         17\n",
      "Roach        20\n",
      "Smelt        14\n",
      "Whitefish     6\n",
      "dtype: int64\n"
     ]
    }
   ],
   "source": [
    "# Đếm loại cá mà chúng ta có trong dữ liệu\n",
    "print(fish_data.groupby('Loại cá').size())"
   ]
  },
  {
   "cell_type": "code",
   "execution_count": 16,
   "id": "26ecc9e5",
   "metadata": {},
   "outputs": [
    {
     "name": "stderr",
     "output_type": "stream",
     "text": [
      "c:\\users\\admin\\appdata\\local\\programs\\python\\python38\\lib\\site-packages\\seaborn\\_decorators.py:36: FutureWarning: Pass the following variable as a keyword arg: x. From version 0.12, the only valid positional argument will be `data`, and passing other arguments without an explicit keyword will result in an error or misinterpretation.\n",
      "  warnings.warn(\n"
     ]
    },
    {
     "data": {
      "image/png": "[encoded data removed]",
      "text/plain": [
       "<Figure size 864x576 with 1 Axes>"
      ]
     },
     "metadata": {
      "needs_background": "light"
     },
     "output_type": "display_data"
    }
   ],
   "source": [
    "#Tần suất loại cá\n",
    "plt.figure(figsize=(12,8))\n",
    "sns.countplot(fish_data['Loại cá'])\n",
    "plt.show()"
   ]
  },
  {
   "cell_type": "markdown",
   "id": "65bb5937",
   "metadata": {},
   "source": [
    "# Bước 5: Xây dựng mô hình"
   ]
  },
  {
   "cell_type": "code",
   "execution_count": 17,
   "id": "8b5054b0",
   "metadata": {},
   "outputs": [
    {
     "name": "stdout",
     "output_type": "stream",
     "text": [
      "(111, 5)\n",
      "(48, 5)\n",
      "(111,)\n",
      "(48,)\n"
     ]
    }
   ],
   "source": [
    "# Tách dữ liệu để train-test\n",
    "X_train, X_test, Y_train, Y_test =  train_test_split( X,Y,test_size=0.3, random_state=10)\n",
    "print(X_train.shape)\n",
    "print(X_test.shape)\n",
    "print(Y_train.shape)\n",
    "print(Y_test.shape)"
   ]
  },
  {
   "cell_type": "code",
   "execution_count": 18,
   "id": "9f792c44",
   "metadata": {},
   "outputs": [
    {
     "data": {
      "text/plain": [
       "LinearRegression()"
      ]
     },
     "execution_count": 18,
     "metadata": {},
     "output_type": "execute_result"
    }
   ],
   "source": [
    "# tạo một đối tượng mô hình Hồi quy tuyến tính.\n",
    "regression_model = LinearRegression()\n",
    "# chuyển qua tập dữ liệu X_train & y_train.\n",
    "regression_model.fit(X_train, Y_train)"
   ]
  },
  {
   "cell_type": "code",
   "execution_count": 19,
   "id": "4a3ef1c6",
   "metadata": {},
   "outputs": [
    {
     "name": "stdout",
     "output_type": "stream",
     "text": [
      "Intercept cho mô hình là: -520.1\n"
     ]
    }
   ],
   "source": [
    "print(\"Intercept cho mô hình là: {:.4}\".format(regression_model.intercept_))"
   ]
  },
  {
   "cell_type": "code",
   "execution_count": 20,
   "id": "516e7cf6",
   "metadata": {},
   "outputs": [
    {
     "name": "stdout",
     "output_type": "stream",
     "text": [
      "[ 40.93617308  10.06005782 -23.01662758  24.72253785  14.4039206 ]\n"
     ]
    }
   ],
   "source": [
    "print(regression_model.coef_)"
   ]
  },
  {
   "cell_type": "code",
   "execution_count": 21,
   "id": "affeec6e",
   "metadata": {},
   "outputs": [
    {
     "data": {
      "text/plain": [
       "array([-87.84321884, 168.20569933, 207.55330308, 687.70771533,\n",
       "       450.59823258, 229.81721886, 418.22868451, 547.28559303,\n",
       "       536.02016027, 367.92959207])"
      ]
     },
     "execution_count": 21,
     "metadata": {},
     "output_type": "execute_result"
    }
   ],
   "source": [
    "#Đưa ra nhiều dự đoán trên tập test\n",
    "Y_predict_test = regression_model.predict(X_test)\n",
    "\n",
    "# Hiển thị ra 10 dự đoán đầu tiên\n",
    "Y_predict_test[:10]"
   ]
  },
  {
   "cell_type": "code",
   "execution_count": null,
   "id": "39e019f4",
   "metadata": {},
   "outputs": [],
   "source": []
  },
  {
   "cell_type": "code",
   "execution_count": 22,
   "id": "a5c6b7e0",
   "metadata": {},
   "outputs": [
    {
     "data": {
      "text/plain": [
       "array([699.71487794, 108.36323164, 190.47343982, 140.74390037,\n",
       "       173.1331627 , 877.38738143,   3.45042974,  82.76013741,\n",
       "       237.40162985, 376.97562926])"
      ]
     },
     "execution_count": 22,
     "metadata": {},
     "output_type": "execute_result"
    }
   ],
   "source": [
    "#Đưa ra nhiều dự đoán trên tập train\n",
    "Y_predict_train = regression_model.predict(X_train)\n",
    "\n",
    "# Hiển thị ra 10 dự đoán đầu tiên\n",
    "Y_predict_train[:10]"
   ]
  },
  {
   "cell_type": "markdown",
   "id": "9ee331ae",
   "metadata": {},
   "source": [
    "Đồ thị biểu diễn giá trị thực tế và giá trị dự doán của Y_test và Y_predict_test."
   ]
  },
  {
   "cell_type": "code",
   "execution_count": 23,
   "id": "f804c2d2",
   "metadata": {},
   "outputs": [
    {
     "data": {
      "text/plain": [
       "Text(0.5, 1.0, 'Expected vs. Predicted')"
      ]
     },
     "execution_count": 23,
     "metadata": {},
     "output_type": "execute_result"
    },
    {
     "data": {
      "image/png": "[encoded data removed]",
      "text/plain": [
       "<Figure size 432x288 with 1 Axes>"
      ]
     },
     "metadata": {
      "needs_background": "light"
     },
     "output_type": "display_data"
    }
   ],
   "source": [
    "plt.scatter(Y_test, Y_predict_test, color ='cadetblue' ,alpha=0.5)\n",
    "plt.xlabel(\"Expected\")\n",
    "plt.ylabel(\"Predicted\")\n",
    "plt.title(\"Expected vs. Predicted\")\n"
   ]
  },
  {
   "cell_type": "markdown",
   "id": "128c40fd",
   "metadata": {},
   "source": [
    "Đồ thị biểu diễn giữa giá trị thực tế và giá trị dự đoán của Y_train  và Y_predict_train"
   ]
  },
  {
   "cell_type": "code",
   "execution_count": 24,
   "id": "5cd192ff",
   "metadata": {},
   "outputs": [
    {
     "data": {
      "text/plain": [
       "Text(0.5, 1.0, 'Expected vs. Predicted')"
      ]
     },
     "execution_count": 24,
     "metadata": {},
     "output_type": "execute_result"
    },
    {
     "data": {
      "image/png": "[encoded data removed]",
      "text/plain": [
       "<Figure size 432x288 with 1 Axes>"
      ]
     },
     "metadata": {
      "needs_background": "light"
     },
     "output_type": "display_data"
    }
   ],
   "source": [
    "plt.scatter(Y_train, Y_predict_train, color ='cadetblue' ,alpha=0.5)\n",
    "plt.xlabel(\"Expected\")\n",
    "plt.ylabel(\"Predicted\")\n",
    "plt.title(\"Expected vs. Predicted\")"
   ]
  },
  {
   "cell_type": "code",
   "execution_count": null,
   "id": "30c1b7c9",
   "metadata": {},
   "outputs": [],
   "source": []
  },
  {
   "cell_type": "markdown",
   "id": "8b60ea41",
   "metadata": {},
   "source": [
    "# Bước 6: Đánh giá mô hình"
   ]
  },
  {
   "cell_type": "code",
   "execution_count": 25,
   "id": "264dfda2",
   "metadata": {},
   "outputs": [],
   "source": [
    "# xác định đầu vào\n",
    "X2 = sm.add_constant(X)\n",
    "\n",
    "#Tạo một mô hình OLS \n",
    "model = sm.OLS(Y, X2)\n",
    "\n",
    "# fit the data\n",
    "est = model.fit()"
   ]
  },
  {
   "cell_type": "code",
   "execution_count": 26,
   "id": "1486dfdd",
   "metadata": {},
   "outputs": [
    {
     "data": {
      "text/plain": [
       "array([[-558.00958578, -441.16432494],\n",
       "       [ -17.08078028,  141.79120915],\n",
       "       [ -89.02495596,   75.97145098],\n",
       "       [ -63.30855369,    5.25611646],\n",
       "       [  11.05197654,   45.54272611],\n",
       "       [ -17.77289147,   62.71950478]])"
      ]
     },
     "execution_count": 26,
     "metadata": {},
     "output_type": "execute_result"
    }
   ],
   "source": [
    "#tạo một số khoảng tin cậy, theo mặc định là 95%. \n",
    "est.conf_int()"
   ]
  },
  {
   "cell_type": "code",
   "execution_count": 27,
   "id": "a4340032",
   "metadata": {},
   "outputs": [
    {
     "data": {
      "text/plain": [
       "array([8.44136168e-37, 1.23018636e-01, 8.76005273e-01, 9.64307949e-02,\n",
       "       1.45847750e-03, 2.71689248e-01])"
      ]
     },
     "execution_count": 27,
     "metadata": {},
     "output_type": "execute_result"
    }
   ],
   "source": [
    "#ước lượng giá trị\n",
    "est.pvalues"
   ]
  },
  {
   "cell_type": "markdown",
   "id": "64161ef7",
   "metadata": {},
   "source": [
    "Đánh giá trên Y_test và Y_predict_test"
   ]
  },
  {
   "cell_type": "code",
   "execution_count": 28,
   "id": "8c1b075c",
   "metadata": {},
   "outputs": [
    {
     "name": "stdout",
     "output_type": "stream",
     "text": [
      "Mean squared error: \u001b[1m1.421e+04\u001b[0m\n",
      "Root Mean squared error: \u001b[1m119.2\u001b[0m\n",
      "R2 score: \u001b[1m0.81\u001b[0m\n"
     ]
    }
   ],
   "source": [
    "# calculate the mean absolute error.\n",
    "model_mae_test = mean_absolute_error(Y_test, Y_predict_test)\n",
    "\n",
    "# calculate the mean squared error\n",
    "model_mse_test = mean_squared_error(Y_test, Y_predict_test)\n",
    "\n",
    "# calulcate the root mean squared error\n",
    "model_rmse_test =  math.sqrt(model_mse_test)\n",
    "\n",
    "\n",
    "# The mean squared error\n",
    "print('Mean squared error: ' + '\\033[1m' + '{:.4}''\\033[0m'.format(model_mse_test))\n",
    "\n",
    "# The mean squared error\n",
    "print('Root Mean squared error: ' + '\\033[1m' + '{:.4}''\\033[0m'.format(math.sqrt(model_mse_test)))\n",
    "\n",
    "\n",
    "# Explained variance score: 1 is perfect prediction\n",
    "print('R2 score: '+ '\\033[1m' + '{:.2}''\\033[0m'.format(r2_score(Y_test,Y_predict_test)))"
   ]
  },
  {
   "cell_type": "markdown",
   "id": "590590cd",
   "metadata": {},
   "source": [
    "Đánh giá trên Y_train và Y_predict_train"
   ]
  },
  {
   "cell_type": "code",
   "execution_count": 29,
   "id": "6bca13cd",
   "metadata": {},
   "outputs": [
    {
     "name": "stdout",
     "output_type": "stream",
     "text": [
      "Mean squared error: \u001b[1m1.526e+04\u001b[0m\n",
      "Root Mean squared error: \u001b[1m123.5\u001b[0m\n",
      "R2 score: \u001b[1m0.9\u001b[0m\n"
     ]
    }
   ],
   "source": [
    "# calculate the mean absolute error.\n",
    "model_mae_train = mean_absolute_error(Y_train, Y_predict_train)\n",
    "\n",
    "# calculate the mean squared error\n",
    "model_mse_train = mean_squared_error(Y_train, Y_predict_train)\n",
    "\n",
    "# calulcate the root mean squared error\n",
    "model_rmse_train =  math.sqrt(model_mse_train)\n",
    "\n",
    "# The mean squared error\n",
    "print('Mean squared error: ' + '\\033[1m' + '{:.4}''\\033[0m'.format(model_mse_train))\n",
    "\n",
    "# The mean squared error\n",
    "print('Root Mean squared error: ' + '\\033[1m' + '{:.4}''\\033[0m'.format(math.sqrt(model_mse_train)))\n",
    "\n",
    "\n",
    "# Explained variance score: 1 is perfect prediction\n",
    "print('R2 score: '+ '\\033[1m' + '{:.2}''\\033[0m'.format(r2_score(Y_train,Y_predict_train)))"
   ]
  },
  {
   "cell_type": "code",
   "execution_count": 30,
   "id": "d999ad7b",
   "metadata": {},
   "outputs": [
    {
     "name": "stdout",
     "output_type": "stream",
     "text": [
      "                            OLS Regression Results                            \n",
      "==============================================================================\n",
      "Dep. Variable:                      y   R-squared:                       0.885\n",
      "Model:                            OLS   Adj. R-squared:                  0.882\n",
      "Method:                 Least Squares   F-statistic:                     236.2\n",
      "Date:                Tue, 23 Nov 2021   Prob (F-statistic):           4.95e-70\n",
      "Time:                        20:03:45   Log-Likelihood:                -987.96\n",
      "No. Observations:                 159   AIC:                             1988.\n",
      "Df Residuals:                     153   BIC:                             2006.\n",
      "Df Model:                           5                                         \n",
      "Covariance Type:            nonrobust                                         \n",
      "==============================================================================\n",
      "                 coef    std err          t      P>|t|      [0.025      0.975]\n",
      "------------------------------------------------------------------------------\n",
      "const       -499.5870     29.572    -16.894      0.000    -558.010    -441.164\n",
      "x1            62.3552     40.209      1.551      0.123     -17.081     141.791\n",
      "x2            -6.5268     41.759     -0.156      0.876     -89.025      75.971\n",
      "x3           -29.0262     17.353     -1.673      0.096     -63.309       5.256\n",
      "x4            28.2974      8.729      3.242      0.001      11.052      45.543\n",
      "x5            22.4733     20.372      1.103      0.272     -17.773      62.720\n",
      "==============================================================================\n",
      "Omnibus:                       20.989   Durbin-Watson:                   0.424\n",
      "Prob(Omnibus):                  0.000   Jarque-Bera (JB):               27.307\n",
      "Skew:                           0.792   Prob(JB):                     1.18e-06\n",
      "Kurtosis:                       4.269   Cond. No.                         315.\n",
      "==============================================================================\n",
      "\n",
      "Notes:\n",
      "[1] Standard Errors assume that the covariance matrix of the errors is correctly specified.\n"
     ]
    }
   ],
   "source": [
    "#In ra bản tóm tắt\n",
    "print(est.summary())"
   ]
  },
  {
   "cell_type": "code",
   "execution_count": null,
   "id": "489d2b75",
   "metadata": {},
   "outputs": [],
   "source": []
  },
  {
   "cell_type": "markdown",
   "id": "c89a4f23",
   "metadata": {},
   "source": []
  },
  {
   "cell_type": "code",
   "execution_count": null,
   "id": "e848565f",
   "metadata": {},
   "outputs": [],
   "source": [
    "\n"
   ]
  },
  {
   "cell_type": "markdown",
   "id": "3f43df5f",
   "metadata": {},
   "source": []
  },
  {
   "cell_type": "code",
   "execution_count": null,
   "id": "6100eff7",
   "metadata": {},
   "outputs": [],
   "source": [
    "\n",
    "\n",
    "\n"
   ]
  },
  {
   "cell_type": "code",
   "execution_count": null,
   "id": "acbc60c4",
   "metadata": {},
   "outputs": [],
   "source": []
  },
  {
   "cell_type": "code",
   "execution_count": null,
   "id": "0cbab1b1",
   "metadata": {},
   "outputs": [],
   "source": [
    "\n"
   ]
  },
  {
   "cell_type": "code",
   "execution_count": null,
   "id": "2797b742",
   "metadata": {},
   "outputs": [],
   "source": [
    "\n"
   ]
  },
  {
   "cell_type": "code",
   "execution_count": null,
   "id": "cfb2b54f",
   "metadata": {},
   "outputs": [],
   "source": [
    "\n"
   ]
  },
  {
   "cell_type": "code",
   "execution_count": null,
   "id": "07925811",
   "metadata": {},
   "outputs": [],
   "source": []
  },
  {
   "cell_type": "code",
   "execution_count": null,
   "id": "220fac9e",
   "metadata": {},
   "outputs": [],
   "source": []
  },
  {
   "cell_type": "code",
   "execution_count": null,
   "id": "52343a16",
   "metadata": {},
   "outputs": [],
   "source": []
  },
  {
   "cell_type": "code",
   "execution_count": null,
   "id": "5c4be19e",
   "metadata": {},
   "outputs": [],
   "source": []
  },
  {
   "cell_type": "code",
   "execution_count": null,
   "id": "39123b10",
   "metadata": {},
   "outputs": [],
   "source": []
  },
  {
   "cell_type": "code",
   "execution_count": null,
   "id": "b265854a",
   "metadata": {},
   "outputs": [],
   "source": []
  },
  {
   "cell_type": "code",
   "execution_count": null,
   "id": "30c13cda",
   "metadata": {},
   "outputs": [],
   "source": []
  },
  {
   "cell_type": "code",
   "execution_count": null,
   "id": "2863bd4e",
   "metadata": {},
   "outputs": [],
   "source": []
  }
 ],
 "metadata": {
  "kernelspec": {
   "display_name": "Python 3 (ipykernel)",
   "language": "python",
   "name": "python3"
  },
  "language_info": {
   "codemirror_mode": {
    "name": "ipython",
    "version": 3
   },
   "file_extension": ".py",
   "mimetype": "text/x-python",
   "name": "python",
   "nbconvert_exporter": "python",
   "pygments_lexer": "ipython3",
   "version": "3.8.3"
  }
 },
 "nbformat": 4,
 "nbformat_minor": 5
}
